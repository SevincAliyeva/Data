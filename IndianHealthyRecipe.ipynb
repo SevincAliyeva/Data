{
 "cells": [
  {
   "cell_type": "code",
   "execution_count": 2,
   "id": "d8e99951-3340-43fb-b3bd-dc197cd87ad4",
   "metadata": {},
   "outputs": [],
   "source": [
    "import numpy as np\n",
    "import pandas as pd\n",
    "import seaborn as sns\n",
    "import matplotlib.pyplot as plt\n",
    "%matplotlib inline"
   ]
  },
  {
   "cell_type": "code",
   "execution_count": 3,
   "id": "919ddd95-3f51-40f1-8f2c-a52fd57a24a1",
   "metadata": {},
   "outputs": [],
   "source": [
    "df=pd.read_csv(r'C:\\Users\\LEGION\\OneDrive - Baku Higher Oil School\\Desktop\\IndianHealthyRecipe.csv')"
   ]
  },
  {
   "cell_type": "code",
   "execution_count": 4,
   "id": "c41a0939-2447-4c67-b809-4d3bd5952c4e",
   "metadata": {},
   "outputs": [
    {
     "data": {
      "text/html": [
       "<div>\n",
       "<style scoped>\n",
       "    .dataframe tbody tr th:only-of-type {\n",
       "        vertical-align: middle;\n",
       "    }\n",
       "\n",
       "    .dataframe tbody tr th {\n",
       "        vertical-align: top;\n",
       "    }\n",
       "\n",
       "    .dataframe thead th {\n",
       "        text-align: right;\n",
       "    }\n",
       "</style>\n",
       "<table border=\"1\" class=\"dataframe\">\n",
       "  <thead>\n",
       "    <tr style=\"text-align: right;\">\n",
       "      <th></th>\n",
       "      <th>Dish Name</th>\n",
       "      <th>Description</th>\n",
       "      <th>Spice</th>\n",
       "      <th>Prep Time</th>\n",
       "      <th>Views</th>\n",
       "      <th>Rating</th>\n",
       "      <th>Number of Votes</th>\n",
       "      <th>Serves</th>\n",
       "      <th>Dietary Info</th>\n",
       "      <th>Cook Time</th>\n",
       "      <th>Ingredients</th>\n",
       "      <th>Instructions</th>\n",
       "    </tr>\n",
       "  </thead>\n",
       "  <tbody>\n",
       "    <tr>\n",
       "      <th>0</th>\n",
       "      <td>Pistachio chicken</td>\n",
       "      <td>Mild chicken in a creamy pistachio sauce</td>\n",
       "      <td>mild</td>\n",
       "      <td>Prep 10 mins</td>\n",
       "      <td>11604</td>\n",
       "      <td>4.1</td>\n",
       "      <td>18.0</td>\n",
       "      <td>4.0</td>\n",
       "      <td>['CONTAINS-NUTS']</td>\n",
       "      <td>30 mins</td>\n",
       "      <td>1) 600g chicken thighs, cut into chunks\\n2) 10...</td>\n",
       "      <td>1) Boil enough water to cover the pistachios, ...</td>\n",
       "    </tr>\n",
       "    <tr>\n",
       "      <th>1</th>\n",
       "      <td>Tangy Fried Okra</td>\n",
       "      <td>Bhindi with Amchoor</td>\n",
       "      <td>medium</td>\n",
       "      <td>Prep 10 mins</td>\n",
       "      <td>49899</td>\n",
       "      <td>4.6</td>\n",
       "      <td>35.0</td>\n",
       "      <td>4.0</td>\n",
       "      <td>['VEGETARIAN']</td>\n",
       "      <td>15 mins</td>\n",
       "      <td>1) 500g okra\\n2) 3 tbsp mustard oil\\n3) 1 onio...</td>\n",
       "      <td>1) Wash and thoroughly dry the okra (kitchen r...</td>\n",
       "    </tr>\n",
       "    <tr>\n",
       "      <th>2</th>\n",
       "      <td>Healthy Chicken Korma</td>\n",
       "      <td>Chicken in Creamy Almond Sauce</td>\n",
       "      <td>mild</td>\n",
       "      <td>Prep 10 mins</td>\n",
       "      <td>115569</td>\n",
       "      <td>3.6</td>\n",
       "      <td>163.0</td>\n",
       "      <td>4.0</td>\n",
       "      <td>['CONTAINS-NUTS']</td>\n",
       "      <td>20 mins</td>\n",
       "      <td>1) 6-8 tbsp natural yoghurt\\n2) 1 tsp turmeric...</td>\n",
       "      <td>1) Grind your whole spices in a spice grinder....</td>\n",
       "    </tr>\n",
       "    <tr>\n",
       "      <th>3</th>\n",
       "      <td>Brown Lentil Dhal</td>\n",
       "      <td>Sabut Masoor di Dhal</td>\n",
       "      <td>medium</td>\n",
       "      <td>Prep 10 mins</td>\n",
       "      <td>146798</td>\n",
       "      <td>3.7</td>\n",
       "      <td>87.0</td>\n",
       "      <td>4.0</td>\n",
       "      <td>['VEGETARIAN']</td>\n",
       "      <td>20 mins</td>\n",
       "      <td>1) 200g brown lentils\\n2) Approx. 1L of water\\n</td>\n",
       "      <td>1) Place the lentils in the pressure cooker wi...</td>\n",
       "    </tr>\n",
       "    <tr>\n",
       "      <th>4</th>\n",
       "      <td>Thari Wala Chicken</td>\n",
       "      <td>Healthy Chicken Curry</td>\n",
       "      <td>medium</td>\n",
       "      <td>Prep 10 mins</td>\n",
       "      <td>262696</td>\n",
       "      <td>3.5</td>\n",
       "      <td>343.0</td>\n",
       "      <td>4.0</td>\n",
       "      <td>['LACTOSE-FREE']</td>\n",
       "      <td>40 mins</td>\n",
       "      <td>1) 8 pieces of chicken (4 legs cut into thigh ...</td>\n",
       "      <td>1) Skin the chicken, removing any excess fat.\\...</td>\n",
       "    </tr>\n",
       "  </tbody>\n",
       "</table>\n",
       "</div>"
      ],
      "text/plain": [
       "               Dish Name                               Description   Spice  \\\n",
       "0      Pistachio chicken  Mild chicken in a creamy pistachio sauce    mild   \n",
       "1       Tangy Fried Okra                       Bhindi with Amchoor  medium   \n",
       "2  Healthy Chicken Korma            Chicken in Creamy Almond Sauce    mild   \n",
       "3      Brown Lentil Dhal                      Sabut Masoor di Dhal  medium   \n",
       "4     Thari Wala Chicken                     Healthy Chicken Curry  medium   \n",
       "\n",
       "      Prep Time   Views  Rating  Number of Votes  Serves       Dietary Info  \\\n",
       "0  Prep 10 mins   11604     4.1             18.0     4.0  ['CONTAINS-NUTS']   \n",
       "1  Prep 10 mins   49899     4.6             35.0     4.0     ['VEGETARIAN']   \n",
       "2  Prep 10 mins  115569     3.6            163.0     4.0  ['CONTAINS-NUTS']   \n",
       "3  Prep 10 mins  146798     3.7             87.0     4.0     ['VEGETARIAN']   \n",
       "4  Prep 10 mins  262696     3.5            343.0     4.0   ['LACTOSE-FREE']   \n",
       "\n",
       "  Cook Time                                        Ingredients  \\\n",
       "0   30 mins  1) 600g chicken thighs, cut into chunks\\n2) 10...   \n",
       "1   15 mins  1) 500g okra\\n2) 3 tbsp mustard oil\\n3) 1 onio...   \n",
       "2   20 mins  1) 6-8 tbsp natural yoghurt\\n2) 1 tsp turmeric...   \n",
       "3   20 mins    1) 200g brown lentils\\n2) Approx. 1L of water\\n   \n",
       "4   40 mins  1) 8 pieces of chicken (4 legs cut into thigh ...   \n",
       "\n",
       "                                        Instructions  \n",
       "0  1) Boil enough water to cover the pistachios, ...  \n",
       "1  1) Wash and thoroughly dry the okra (kitchen r...  \n",
       "2  1) Grind your whole spices in a spice grinder....  \n",
       "3  1) Place the lentils in the pressure cooker wi...  \n",
       "4  1) Skin the chicken, removing any excess fat.\\...  "
      ]
     },
     "execution_count": 4,
     "metadata": {},
     "output_type": "execute_result"
    }
   ],
   "source": [
    "df.head()"
   ]
  },
  {
   "cell_type": "code",
   "execution_count": 6,
   "id": "2fcbd969-0e58-4286-90f2-07a991376c46",
   "metadata": {},
   "outputs": [
    {
     "data": {
      "text/plain": [
       "['Dish Name',\n",
       " 'Description',\n",
       " 'Spice',\n",
       " 'Prep Time',\n",
       " 'Views',\n",
       " 'Rating',\n",
       " 'Number of Votes',\n",
       " 'Serves',\n",
       " 'Dietary Info',\n",
       " 'Cook Time',\n",
       " 'Ingredients',\n",
       " 'Instructions']"
      ]
     },
     "execution_count": 6,
     "metadata": {},
     "output_type": "execute_result"
    }
   ],
   "source": [
    "list(df.columns)"
   ]
  },
  {
   "cell_type": "code",
   "execution_count": 5,
   "id": "bf701074-356c-4c8a-a694-ad2dea1c78c0",
   "metadata": {},
   "outputs": [
    {
     "data": {
      "text/html": [
       "<div>\n",
       "<style scoped>\n",
       "    .dataframe tbody tr th:only-of-type {\n",
       "        vertical-align: middle;\n",
       "    }\n",
       "\n",
       "    .dataframe tbody tr th {\n",
       "        vertical-align: top;\n",
       "    }\n",
       "\n",
       "    .dataframe thead th {\n",
       "        text-align: right;\n",
       "    }\n",
       "</style>\n",
       "<table border=\"1\" class=\"dataframe\">\n",
       "  <thead>\n",
       "    <tr style=\"text-align: right;\">\n",
       "      <th></th>\n",
       "      <th>Views</th>\n",
       "      <th>Rating</th>\n",
       "      <th>Number of Votes</th>\n",
       "      <th>Serves</th>\n",
       "    </tr>\n",
       "  </thead>\n",
       "  <tbody>\n",
       "    <tr>\n",
       "      <th>count</th>\n",
       "      <td>149.000000</td>\n",
       "      <td>149.000000</td>\n",
       "      <td>147.000000</td>\n",
       "      <td>146.000000</td>\n",
       "    </tr>\n",
       "    <tr>\n",
       "      <th>mean</th>\n",
       "      <td>72516.563758</td>\n",
       "      <td>3.833557</td>\n",
       "      <td>66.761905</td>\n",
       "      <td>4.445205</td>\n",
       "    </tr>\n",
       "    <tr>\n",
       "      <th>std</th>\n",
       "      <td>82521.553789</td>\n",
       "      <td>0.561442</td>\n",
       "      <td>128.797991</td>\n",
       "      <td>1.399659</td>\n",
       "    </tr>\n",
       "    <tr>\n",
       "      <th>min</th>\n",
       "      <td>3981.000000</td>\n",
       "      <td>0.000000</td>\n",
       "      <td>0.000000</td>\n",
       "      <td>1.000000</td>\n",
       "    </tr>\n",
       "    <tr>\n",
       "      <th>25%</th>\n",
       "      <td>28613.000000</td>\n",
       "      <td>3.500000</td>\n",
       "      <td>16.000000</td>\n",
       "      <td>4.000000</td>\n",
       "    </tr>\n",
       "    <tr>\n",
       "      <th>50%</th>\n",
       "      <td>49854.000000</td>\n",
       "      <td>3.800000</td>\n",
       "      <td>29.000000</td>\n",
       "      <td>4.000000</td>\n",
       "    </tr>\n",
       "    <tr>\n",
       "      <th>75%</th>\n",
       "      <td>84817.000000</td>\n",
       "      <td>4.100000</td>\n",
       "      <td>68.000000</td>\n",
       "      <td>4.000000</td>\n",
       "    </tr>\n",
       "    <tr>\n",
       "      <th>max</th>\n",
       "      <td>596269.000000</td>\n",
       "      <td>5.000000</td>\n",
       "      <td>1266.000000</td>\n",
       "      <td>12.000000</td>\n",
       "    </tr>\n",
       "  </tbody>\n",
       "</table>\n",
       "</div>"
      ],
      "text/plain": [
       "               Views      Rating  Number of Votes      Serves\n",
       "count     149.000000  149.000000       147.000000  146.000000\n",
       "mean    72516.563758    3.833557        66.761905    4.445205\n",
       "std     82521.553789    0.561442       128.797991    1.399659\n",
       "min      3981.000000    0.000000         0.000000    1.000000\n",
       "25%     28613.000000    3.500000        16.000000    4.000000\n",
       "50%     49854.000000    3.800000        29.000000    4.000000\n",
       "75%     84817.000000    4.100000        68.000000    4.000000\n",
       "max    596269.000000    5.000000      1266.000000   12.000000"
      ]
     },
     "execution_count": 5,
     "metadata": {},
     "output_type": "execute_result"
    }
   ],
   "source": [
    "df.describe()"
   ]
  },
  {
   "cell_type": "code",
   "execution_count": 8,
   "id": "89a86332-46bd-4fd6-a42b-e4f82a916e5a",
   "metadata": {},
   "outputs": [
    {
     "data": {
      "text/plain": [
       "0"
      ]
     },
     "execution_count": 8,
     "metadata": {},
     "output_type": "execute_result"
    }
   ],
   "source": [
    "df['Dish Name'].duplicated().sum()"
   ]
  },
  {
   "cell_type": "code",
   "execution_count": 12,
   "id": "90e15d59-5dfa-4e7b-b22b-f3bbf97440ae",
   "metadata": {},
   "outputs": [
    {
     "data": {
      "text/html": [
       "<div>\n",
       "<style scoped>\n",
       "    .dataframe tbody tr th:only-of-type {\n",
       "        vertical-align: middle;\n",
       "    }\n",
       "\n",
       "    .dataframe tbody tr th {\n",
       "        vertical-align: top;\n",
       "    }\n",
       "\n",
       "    .dataframe thead th {\n",
       "        text-align: right;\n",
       "    }\n",
       "</style>\n",
       "<table border=\"1\" class=\"dataframe\">\n",
       "  <thead>\n",
       "    <tr style=\"text-align: right;\">\n",
       "      <th></th>\n",
       "      <th>Dish Name</th>\n",
       "      <th>Views</th>\n",
       "    </tr>\n",
       "  </thead>\n",
       "  <tbody>\n",
       "    <tr>\n",
       "      <th>71</th>\n",
       "      <td>Marrow Curry</td>\n",
       "      <td>596269</td>\n",
       "    </tr>\n",
       "  </tbody>\n",
       "</table>\n",
       "</div>"
      ],
      "text/plain": [
       "       Dish Name   Views\n",
       "71  Marrow Curry  596269"
      ]
     },
     "execution_count": 12,
     "metadata": {},
     "output_type": "execute_result"
    }
   ],
   "source": [
    "maxx_view=df['Views'].max()\n",
    "\n",
    "df[df['Views']==maxx_view][['Dish Name','Views']]"
   ]
  },
  {
   "cell_type": "code",
   "execution_count": 13,
   "id": "9da2ca98-7ef4-49a2-b6fc-bc6cbac64ae3",
   "metadata": {},
   "outputs": [
    {
     "data": {
      "text/html": [
       "<div>\n",
       "<style scoped>\n",
       "    .dataframe tbody tr th:only-of-type {\n",
       "        vertical-align: middle;\n",
       "    }\n",
       "\n",
       "    .dataframe tbody tr th {\n",
       "        vertical-align: top;\n",
       "    }\n",
       "\n",
       "    .dataframe thead th {\n",
       "        text-align: right;\n",
       "    }\n",
       "</style>\n",
       "<table border=\"1\" class=\"dataframe\">\n",
       "  <thead>\n",
       "    <tr style=\"text-align: right;\">\n",
       "      <th></th>\n",
       "      <th>Dish Name</th>\n",
       "      <th>Rating</th>\n",
       "    </tr>\n",
       "  </thead>\n",
       "  <tbody>\n",
       "    <tr>\n",
       "      <th>60</th>\n",
       "      <td>Kati Egg Roll with Basmati &amp; Quinoa</td>\n",
       "      <td>5.0</td>\n",
       "    </tr>\n",
       "    <tr>\n",
       "      <th>92</th>\n",
       "      <td>Pitta Bread with Carom Seeds</td>\n",
       "      <td>5.0</td>\n",
       "    </tr>\n",
       "    <tr>\n",
       "      <th>95</th>\n",
       "      <td>Power Salad Jar</td>\n",
       "      <td>5.0</td>\n",
       "    </tr>\n",
       "    <tr>\n",
       "      <th>127</th>\n",
       "      <td>Spiced Pumpkin Seeds</td>\n",
       "      <td>5.0</td>\n",
       "    </tr>\n",
       "  </tbody>\n",
       "</table>\n",
       "</div>"
      ],
      "text/plain": [
       "                               Dish Name  Rating\n",
       "60   Kati Egg Roll with Basmati & Quinoa     5.0\n",
       "92          Pitta Bread with Carom Seeds     5.0\n",
       "95                       Power Salad Jar     5.0\n",
       "127                 Spiced Pumpkin Seeds     5.0"
      ]
     },
     "execution_count": 13,
     "metadata": {},
     "output_type": "execute_result"
    }
   ],
   "source": [
    "maxx_rating=df['Rating'].max()\n",
    "\n",
    "df[df['Rating']==maxx_rating][['Dish Name','Rating']]"
   ]
  },
  {
   "cell_type": "code",
   "execution_count": 15,
   "id": "459dad50-7b4d-485d-8b65-7c2fe48d539e",
   "metadata": {},
   "outputs": [
    {
     "data": {
      "text/html": [
       "<div>\n",
       "<style scoped>\n",
       "    .dataframe tbody tr th:only-of-type {\n",
       "        vertical-align: middle;\n",
       "    }\n",
       "\n",
       "    .dataframe tbody tr th {\n",
       "        vertical-align: top;\n",
       "    }\n",
       "\n",
       "    .dataframe thead th {\n",
       "        text-align: right;\n",
       "    }\n",
       "</style>\n",
       "<table border=\"1\" class=\"dataframe\">\n",
       "  <thead>\n",
       "    <tr style=\"text-align: right;\">\n",
       "      <th></th>\n",
       "      <th>Dish Name</th>\n",
       "      <th>Serves</th>\n",
       "    </tr>\n",
       "  </thead>\n",
       "  <tbody>\n",
       "    <tr>\n",
       "      <th>131</th>\n",
       "      <td>Spinach and Mushroom Omelette</td>\n",
       "      <td>1.0</td>\n",
       "    </tr>\n",
       "  </tbody>\n",
       "</table>\n",
       "</div>"
      ],
      "text/plain": [
       "                         Dish Name  Serves\n",
       "131  Spinach and Mushroom Omelette     1.0"
      ]
     },
     "execution_count": 15,
     "metadata": {},
     "output_type": "execute_result"
    }
   ],
   "source": [
    "min_serve=df['Serves'].min()\n",
    "\n",
    "df[df['Serves']==min_serve][['Dish Name','Serves']]"
   ]
  },
  {
   "cell_type": "code",
   "execution_count": 17,
   "id": "9c41964f-38c1-49c9-a6b4-60136a022970",
   "metadata": {},
   "outputs": [
    {
     "data": {
      "text/plain": [
       "Dish Name           0\n",
       "Description         0\n",
       "Spice               4\n",
       "Prep Time           1\n",
       "Views               0\n",
       "Rating              0\n",
       "Number of Votes     2\n",
       "Serves              3\n",
       "Dietary Info        0\n",
       "Cook Time          15\n",
       "Ingredients         0\n",
       "Instructions        0\n",
       "dtype: int64"
      ]
     },
     "execution_count": 17,
     "metadata": {},
     "output_type": "execute_result"
    }
   ],
   "source": [
    "df.isnull().sum()"
   ]
  },
  {
   "cell_type": "code",
   "execution_count": 18,
   "id": "7e00889c-920c-4871-824d-714d84d2e5b5",
   "metadata": {},
   "outputs": [
    {
     "data": {
      "text/plain": [
       "Spice\n",
       "medium    87\n",
       "mild      26\n",
       "hot       21\n",
       "none      11\n",
       "Name: count, dtype: int64"
      ]
     },
     "execution_count": 18,
     "metadata": {},
     "output_type": "execute_result"
    }
   ],
   "source": [
    "df['Spice'].value_counts()"
   ]
  },
  {
   "cell_type": "code",
   "execution_count": 20,
   "id": "cda3d5aa-f359-4dcf-a807-b3c20dc7de12",
   "metadata": {},
   "outputs": [],
   "source": [
    "df['Spice'].fillna(df['Spice'].mode()[0],inplace=True)"
   ]
  },
  {
   "cell_type": "code",
   "execution_count": 21,
   "id": "fd79e55b-4232-4bb9-b00f-d2eebc7d79e2",
   "metadata": {},
   "outputs": [
    {
     "name": "stderr",
     "output_type": "stream",
     "text": [
      "C:\\Users\\LEGION\\AppData\\Local\\Temp\\ipykernel_21644\\960419873.py:1: FutureWarning: A value is trying to be set on a copy of a DataFrame or Series through chained assignment using an inplace method.\n",
      "The behavior will change in pandas 3.0. This inplace method will never work because the intermediate object on which we are setting values always behaves as a copy.\n",
      "\n",
      "For example, when doing 'df[col].method(value, inplace=True)', try using 'df.method({col: value}, inplace=True)' or df[col] = df[col].method(value) instead, to perform the operation inplace on the original object.\n",
      "\n",
      "\n",
      "  df['Prep Time'].fillna(df['Prep Time'].mode()[0],inplace=True)\n"
     ]
    }
   ],
   "source": [
    "df['Prep Time'].fillna(df['Prep Time'].mode()[0],inplace=True)"
   ]
  },
  {
   "cell_type": "code",
   "execution_count": 22,
   "id": "193e2fdd-e30d-45ea-966f-6f7af0ca8231",
   "metadata": {},
   "outputs": [
    {
     "name": "stderr",
     "output_type": "stream",
     "text": [
      "C:\\Users\\LEGION\\AppData\\Local\\Temp\\ipykernel_21644\\1532129390.py:1: FutureWarning: A value is trying to be set on a copy of a DataFrame or Series through chained assignment using an inplace method.\n",
      "The behavior will change in pandas 3.0. This inplace method will never work because the intermediate object on which we are setting values always behaves as a copy.\n",
      "\n",
      "For example, when doing 'df[col].method(value, inplace=True)', try using 'df.method({col: value}, inplace=True)' or df[col] = df[col].method(value) instead, to perform the operation inplace on the original object.\n",
      "\n",
      "\n",
      "  df['Number of Votes'].fillna(df['Number of Votes'].mean(),inplace=True)\n"
     ]
    }
   ],
   "source": [
    "df['Number of Votes'].fillna(df['Number of Votes'].mean(),inplace=True)"
   ]
  },
  {
   "cell_type": "code",
   "execution_count": 23,
   "id": "6414fa39-5553-4f9a-84a8-4c693746f3f3",
   "metadata": {},
   "outputs": [
    {
     "name": "stderr",
     "output_type": "stream",
     "text": [
      "C:\\Users\\LEGION\\AppData\\Local\\Temp\\ipykernel_21644\\1719616035.py:1: FutureWarning: A value is trying to be set on a copy of a DataFrame or Series through chained assignment using an inplace method.\n",
      "The behavior will change in pandas 3.0. This inplace method will never work because the intermediate object on which we are setting values always behaves as a copy.\n",
      "\n",
      "For example, when doing 'df[col].method(value, inplace=True)', try using 'df.method({col: value}, inplace=True)' or df[col] = df[col].method(value) instead, to perform the operation inplace on the original object.\n",
      "\n",
      "\n",
      "  df['Serves'].fillna(df['Serves'].mean(),inplace=True)\n"
     ]
    }
   ],
   "source": [
    "df['Serves'].fillna(df['Serves'].mean(),inplace=True)"
   ]
  },
  {
   "cell_type": "code",
   "execution_count": 25,
   "id": "184809ba-a0bd-4754-b013-b7e6a1626e13",
   "metadata": {},
   "outputs": [
    {
     "name": "stderr",
     "output_type": "stream",
     "text": [
      "C:\\Users\\LEGION\\AppData\\Local\\Temp\\ipykernel_21644\\3504986714.py:1: FutureWarning: A value is trying to be set on a copy of a DataFrame or Series through chained assignment using an inplace method.\n",
      "The behavior will change in pandas 3.0. This inplace method will never work because the intermediate object on which we are setting values always behaves as a copy.\n",
      "\n",
      "For example, when doing 'df[col].method(value, inplace=True)', try using 'df.method({col: value}, inplace=True)' or df[col] = df[col].method(value) instead, to perform the operation inplace on the original object.\n",
      "\n",
      "\n",
      "  df['Cook Time'].fillna(df['Cook Time'].mode()[0],inplace=True)\n"
     ]
    }
   ],
   "source": [
    "df['Cook Time'].fillna(df['Cook Time'].mode()[0],inplace=True)"
   ]
  },
  {
   "cell_type": "code",
   "execution_count": 26,
   "id": "369d72d0-75ec-4e12-a1a8-498533957c83",
   "metadata": {},
   "outputs": [
    {
     "data": {
      "text/plain": [
       "Dish Name          0\n",
       "Description        0\n",
       "Spice              0\n",
       "Prep Time          0\n",
       "Views              0\n",
       "Rating             0\n",
       "Number of Votes    0\n",
       "Serves             0\n",
       "Dietary Info       0\n",
       "Cook Time          0\n",
       "Ingredients        0\n",
       "Instructions       0\n",
       "dtype: int64"
      ]
     },
     "execution_count": 26,
     "metadata": {},
     "output_type": "execute_result"
    }
   ],
   "source": [
    "df.isnull().sum()"
   ]
  },
  {
   "cell_type": "code",
   "execution_count": null,
   "id": "193628f3-a968-4f5e-8a03-a1cb2c08310e",
   "metadata": {},
   "outputs": [],
   "source": []
  }
 ],
 "metadata": {
  "kernelspec": {
   "display_name": "Python 3 (ipykernel)",
   "language": "python",
   "name": "python3"
  },
  "language_info": {
   "codemirror_mode": {
    "name": "ipython",
    "version": 3
   },
   "file_extension": ".py",
   "mimetype": "text/x-python",
   "name": "python",
   "nbconvert_exporter": "python",
   "pygments_lexer": "ipython3",
   "version": "3.12.4"
  }
 },
 "nbformat": 4,
 "nbformat_minor": 5
}
